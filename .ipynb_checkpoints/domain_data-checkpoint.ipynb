{
 "cells": [
  {
   "cell_type": "markdown",
   "metadata": {
    "colab_type": "text",
    "id": "7grohEB-mWOP"
   },
   "source": [
    "# Loading Data\n",
    "\n",
    "Here, we will create the dataset by combining a domain dataset from Splunk, the Bambenek DGA feed, and Alexa's top 1 million domains. We then save this dataset so we can train the model on it later."
   ]
  },
  {
   "cell_type": "code",
   "execution_count": null,
   "metadata": {
    "colab": {
     "base_uri": "https://localhost:8080/",
     "height": 168
    },
    "colab_type": "code",
    "id": "EWBqw1PtEYOX",
    "outputId": "140dbaff-2ff8-4aee-8a9e-d0874a568e76"
   },
   "outputs": [],
   "source": [
    "import numpy as np\n",
    "import pandas as pd\n",
    "from random import randint"
   ]
  },
  {
   "cell_type": "code",
   "execution_count": null,
   "metadata": {
    "colab": {},
    "colab_type": "code",
    "id": "ih3oDDXBFfC3"
   },
   "outputs": [],
   "source": [
    "def load_data():\n",
    "  domains = pd.read_csv('/content/drive/My Drive/domains.csv')\n",
    "  domains.drop(['RootObject.subclass'], axis=1, inplace=True)\n",
    "  columns = {'RootObject.class': 'pred', 'RootObject.domain': 'domain'}\n",
    "  domains.rename(columns=columns, inplace=True)\n",
    "  \n",
    "  for i in range(domains.shape[0]):\n",
    "    if domains['pred'][i] == 'legit':\n",
    "      domains['pred'][i] = 0\n",
    "    else:\n",
    "      domains['pred'][i] = 1\n",
    "\n",
    "  return domains[['domain', 'pred']]"
   ]
  },
  {
   "cell_type": "code",
   "execution_count": null,
   "metadata": {
    "colab": {},
    "colab_type": "code",
    "id": "Fin98-Ywbe_7"
   },
   "outputs": [],
   "source": [
    "domains = load_data().sample(frac=1)\n",
    "\n",
    "domains_2 = pd.read_csv('https://osint.bambenekconsulting.com/feeds/dga-feed.txt', index_col=False, names=['domain', 'junk', 'junk2'], skiprows=15)\n",
    "domains_2 = domains_2.drop(['junk', 'junk2'], axis=1)\n",
    "\n",
    "domains_3 = pd.read_csv('/content/drive/My Drive/top-1m.csv', names=['domain'], index_col=0).reset_index(drop=True)\n",
    "\n",
    "pred_2 = np.ones(domains_2.shape[0], dtype=int)\n",
    "pred_3 = np.zeros(domains_3.shape[0], dtype=int)\n",
    "\n",
    "domains_2['pred'] = pred_2\n",
    "domains_3['pred'] = pred_3\n",
    "\n",
    "domain_data = pd.concat([domains, domains_2, domains_3], ignore_index=True, sort=True)"
   ]
  },
  {
   "cell_type": "code",
   "execution_count": null,
   "metadata": {
    "colab": {},
    "colab_type": "code",
    "id": "3tF38vm7ePfo"
   },
   "outputs": [],
   "source": [
    "def strip(domain_name):\n",
    "  domain_name = domain_name.lower()\n",
    "  name_chunks = domain_name.split('.')\n",
    "\n",
    "  if len(name_chunks) == 2:\n",
    "    return name_chunks[0]\n",
    "  elif len(name_chunks) == 3:\n",
    "    return name_chunks[1]\n",
    "  else:\n",
    "    return domain_name"
   ]
  },
  {
   "cell_type": "code",
   "execution_count": null,
   "metadata": {
    "colab": {},
    "colab_type": "code",
    "id": "WdgOvWOHfSN3"
   },
   "outputs": [],
   "source": [
    "def preprocess(domains, K=0.25):\n",
    "  r = domains.shape[0]\n",
    "  t = int(K * r)\n",
    "\n",
    "  for i in range(t):\n",
    "    idx = randint(0, r)\n",
    "    domains['domain'][idx] = strip(domains['domain'][idx])\n",
    "    if i % 1000 == 0:\n",
    "      print('logging at ' + str(i))\n",
    "  \n",
    "  return domains"
   ]
  },
  {
   "cell_type": "code",
   "execution_count": null,
   "metadata": {
    "colab": {
     "base_uri": "https://localhost:8080/",
     "height": 1000
    },
    "colab_type": "code",
    "id": "3-rN5s6vehFo",
    "outputId": "51661ef6-48dd-440f-eb33-6a5a11d2e6c5"
   },
   "outputs": [],
   "source": [
    "preprocess(domain_data)"
   ]
  },
  {
   "cell_type": "code",
   "execution_count": null,
   "metadata": {
    "colab": {},
    "colab_type": "code",
    "id": "ugN8A01eiT_R"
   },
   "outputs": [],
   "source": [
    "domain_data = domain_data.sample(frac=1).reset_index(drop=True)\n",
    "domain_data.to_csv('/content/drive/My Drive/domain_data.csv', index=False)"
   ]
  }
 ],
 "metadata": {
  "accelerator": "GPU",
  "colab": {
   "collapsed_sections": [],
   "name": "Domain Classifier Model",
   "provenance": []
  },
  "kernelspec": {
   "display_name": "Python 3",
   "language": "python",
   "name": "python3"
  },
  "language_info": {
   "codemirror_mode": {
    "name": "ipython",
    "version": 3
   },
   "file_extension": ".py",
   "mimetype": "text/x-python",
   "name": "python",
   "nbconvert_exporter": "python",
   "pygments_lexer": "ipython3",
   "version": "3.7.3"
  }
 },
 "nbformat": 4,
 "nbformat_minor": 1
}
