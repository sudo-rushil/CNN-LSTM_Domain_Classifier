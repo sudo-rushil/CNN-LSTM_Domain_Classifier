{
 "cells": [
  {
   "cell_type": "code",
   "execution_count": 1,
   "metadata": {
    "ExecuteTime": {
     "end_time": "2019-11-22T19:50:50.025962Z",
     "start_time": "2019-11-22T19:50:46.870789Z"
    },
    "colab": {
     "base_uri": "https://localhost:8080/",
     "height": 34
    },
    "colab_type": "code",
    "id": "r4wkhqr32qE1",
    "outputId": "db0c9953-e0e5-44b3-fd1a-a612d9375a09"
   },
   "outputs": [],
   "source": [
    "import tensorflow as tf\n",
    "import numpy as np\n",
    "import pandas as pd\n",
    "from tensorflow.keras.layers import Input, LSTM, Dropout, Embedding, Dense, Conv1D, MaxPooling1D\n",
    "from tensorflow.keras.models import Model"
   ]
  },
  {
   "cell_type": "code",
   "execution_count": 2,
   "metadata": {
    "ExecuteTime": {
     "end_time": "2019-11-22T19:50:51.311304Z",
     "start_time": "2019-11-22T19:50:51.307960Z"
    }
   },
   "outputs": [
    {
     "name": "stdout",
     "output_type": "stream",
     "text": [
      "2.0.0\n",
      "True\n"
     ]
    }
   ],
   "source": [
    "print(tf.__version__)\n",
    "print(tf.executing_eagerly())"
   ]
  },
  {
   "cell_type": "code",
   "execution_count": 3,
   "metadata": {
    "ExecuteTime": {
     "end_time": "2019-11-22T19:50:52.967505Z",
     "start_time": "2019-11-22T19:50:52.201651Z"
    }
   },
   "outputs": [],
   "source": [
    "model = tf.keras.models.load_model('domain_classifier_model.h5')\n",
    "char2idx = {'-': 0, '.': 1, '0': 2, '1': 3, '2': 4, '3': 5, \n",
    "            '4': 6, '5': 7, '6': 8, '7': 9, '8': 10, '9': 11, \n",
    "            '_': 12, 'a': 13, 'b': 14, 'c': 15, 'd': 16, 'e': 17, \n",
    "            'f': 18, 'g': 19, 'h': 20, 'i': 21, 'j': 22, 'k': 23, \n",
    "            'l': 24, 'm': 25, 'n': 26, 'o': 27, 'p': 28, 'q': 29, \n",
    "            'r': 30, 's': 31, 't': 32, 'u': 33, 'v': 34, 'w': 35, \n",
    "            'x': 36, 'y': 37, 'z': 38}"
   ]
  },
  {
   "cell_type": "code",
   "execution_count": 4,
   "metadata": {
    "ExecuteTime": {
     "end_time": "2019-11-22T19:50:54.139209Z",
     "start_time": "2019-11-22T19:50:54.134800Z"
    },
    "colab": {},
    "colab_type": "code",
    "id": "bVPFrWkd3x5W"
   },
   "outputs": [],
   "source": [
    "def test_array(domains):\n",
    "    array = np.zeros((domains.shape[0], 82))\n",
    "    for i, line in enumerate(domains.iloc[:, 0]):\n",
    "        array[i, :len(line)] = np.array([char2idx[c] for c in line])\n",
    "    targets = np.array(domains.iloc[:, 1], dtype=np.int32)\n",
    "\n",
    "    return array, targets"
   ]
  },
  {
   "cell_type": "code",
   "execution_count": 5,
   "metadata": {
    "ExecuteTime": {
     "end_time": "2019-11-22T19:50:56.995947Z",
     "start_time": "2019-11-22T19:50:56.196022Z"
    },
    "colab": {},
    "colab_type": "code",
    "id": "4uQQ-oaI3bP7"
   },
   "outputs": [],
   "source": [
    "domains = pd.read_csv('datasets/domain_data.csv')"
   ]
  },
  {
   "cell_type": "code",
   "execution_count": 6,
   "metadata": {
    "ExecuteTime": {
     "end_time": "2019-11-22T19:50:58.046984Z",
     "start_time": "2019-11-22T19:50:58.037994Z"
    },
    "colab": {
     "base_uri": "https://localhost:8080/",
     "height": 419
    },
    "colab_type": "code",
    "id": "FaQOd6Zt4MGv",
    "outputId": "7b833c7f-c4f7-4e7a-8a91-15209dcb3bab"
   },
   "outputs": [
    {
     "data": {
      "text/plain": [
       "(1851191, 2)"
      ]
     },
     "execution_count": 6,
     "metadata": {},
     "output_type": "execute_result"
    }
   ],
   "source": [
    "domains.shape"
   ]
  },
  {
   "cell_type": "code",
   "execution_count": 7,
   "metadata": {
    "ExecuteTime": {
     "end_time": "2019-11-22T19:51:00.468722Z",
     "start_time": "2019-11-22T19:51:00.124104Z"
    },
    "colab": {},
    "colab_type": "code",
    "id": "iF1cCnnf34eZ"
   },
   "outputs": [],
   "source": [
    "x_test, y_test = test_array(domains[1600000:1700000])"
   ]
  },
  {
   "cell_type": "code",
   "execution_count": 9,
   "metadata": {
    "ExecuteTime": {
     "end_time": "2019-11-22T19:51:07.417711Z",
     "start_time": "2019-11-22T19:51:07.414012Z"
    }
   },
   "outputs": [
    {
     "data": {
      "text/plain": [
       "(100000, 82)"
      ]
     },
     "execution_count": 9,
     "metadata": {},
     "output_type": "execute_result"
    }
   ],
   "source": [
    "x_test.shape"
   ]
  },
  {
   "cell_type": "code",
   "execution_count": 10,
   "metadata": {
    "ExecuteTime": {
     "end_time": "2019-11-22T19:51:09.973609Z",
     "start_time": "2019-11-22T19:51:09.969085Z"
    }
   },
   "outputs": [
    {
     "name": "stdout",
     "output_type": "stream",
     "text": [
      "Model: \"model_4\"\n",
      "_________________________________________________________________\n",
      "Layer (type)                 Output Shape              Param #   \n",
      "=================================================================\n",
      "domain_input (InputLayer)    [(None, 82)]              0         \n",
      "_________________________________________________________________\n",
      "embedding_4 (Embedding)      (None, 82, 128)           4992      \n",
      "_________________________________________________________________\n",
      "conv1d_4 (Conv1D)            (None, 82, 128)           49280     \n",
      "_________________________________________________________________\n",
      "max_pooling1d_4 (MaxPooling1 (None, 41, 128)           0         \n",
      "_________________________________________________________________\n",
      "lstm_4 (LSTM)                (None, 64)                49408     \n",
      "_________________________________________________________________\n",
      "dropout (Dropout)            (None, 64)                0         \n",
      "_________________________________________________________________\n",
      "dense_4 (Dense)              (None, 1)                 65        \n",
      "=================================================================\n",
      "Total params: 103,745\n",
      "Trainable params: 103,745\n",
      "Non-trainable params: 0\n",
      "_________________________________________________________________\n"
     ]
    }
   ],
   "source": [
    "model.summary()"
   ]
  },
  {
   "cell_type": "code",
   "execution_count": null,
   "metadata": {
    "ExecuteTime": {
     "start_time": "2019-11-22T19:51:37.085Z"
    }
   },
   "outputs": [],
   "source": [
    "y_pred = model(x_test).numpy().sum()"
   ]
  },
  {
   "cell_type": "code",
   "execution_count": null,
   "metadata": {},
   "outputs": [],
   "source": []
  }
 ],
 "metadata": {
  "accelerator": "GPU",
  "colab": {
   "collapsed_sections": [],
   "name": "Domain Classifier Model",
   "provenance": []
  },
  "kernelspec": {
   "display_name": "Python 3",
   "language": "python",
   "name": "python3"
  },
  "language_info": {
   "codemirror_mode": {
    "name": "ipython",
    "version": 3
   },
   "file_extension": ".py",
   "mimetype": "text/x-python",
   "name": "python",
   "nbconvert_exporter": "python",
   "pygments_lexer": "ipython3",
   "version": "3.7.4"
  }
 },
 "nbformat": 4,
 "nbformat_minor": 1
}
