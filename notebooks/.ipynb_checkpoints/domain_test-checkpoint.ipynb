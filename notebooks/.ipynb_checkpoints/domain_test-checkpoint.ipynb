{
 "cells": [
  {
   "cell_type": "code",
   "execution_count": 1,
   "metadata": {
    "ExecuteTime": {
     "end_time": "2019-11-23T04:18:51.804753Z",
     "start_time": "2019-11-23T04:18:47.430275Z"
    },
    "colab": {
     "base_uri": "https://localhost:8080/",
     "height": 139
    },
    "colab_type": "code",
    "id": "uRAytyJbItqO",
    "outputId": "ee8e0c8a-484d-4e48-bcc3-dcc5d6093c40"
   },
   "outputs": [],
   "source": [
    "import pandas as pd\n",
    "import numpy as np\n",
    "import tensorflow as tf\n",
    "\n",
    "import matplotlib.pyplot as plt\n",
    "%matplotlib inline\n",
    "\n",
    "from sklearn.metrics import confusion_matrix, classification_report, roc_curve, roc_auc_score \n",
    "from sklearn.metrics import precision_recall_curve, average_precision_score"
   ]
  },
  {
   "cell_type": "code",
   "execution_count": 2,
   "metadata": {
    "ExecuteTime": {
     "end_time": "2019-11-23T04:18:57.779010Z",
     "start_time": "2019-11-23T04:18:52.729754Z"
    },
    "colab": {},
    "colab_type": "code",
    "id": "7vcf755WKTn0"
   },
   "outputs": [],
   "source": [
    "domain_data = pd.read_csv('https://raw.githubusercontent.com/sudo-rushil/dga-intel/master/datasets/domain_data.csv')\n",
    "model = tf.keras.models.load_model('domain_classifier_model.h5')\n",
    "char2idx = {'-': 0, '.': 1, '0': 2, '1': 3, '2': 4, '3': 5, \n",
    "            '4': 6, '5': 7, '6': 8, '7': 9, '8': 10, '9': 11, \n",
    "            '_': 12, 'a': 13, 'b': 14, 'c': 15, 'd': 16, 'e': 17, \n",
    "            'f': 18, 'g': 19, 'h': 20, 'i': 21, 'j': 22, 'k': 23, \n",
    "            'l': 24, 'm': 25, 'n': 26, 'o': 27, 'p': 28, 'q': 29, \n",
    "            'r': 30, 's': 31, 't': 32, 'u': 33, 'v': 34, 'w': 35, \n",
    "            'x': 36, 'y': 37, 'z': 38}"
   ]
  },
  {
   "cell_type": "code",
   "execution_count": 3,
   "metadata": {
    "colab": {
     "base_uri": "https://localhost:8080/",
     "height": 391
    },
    "colab_type": "code",
    "id": "dm4K2F4-KbY7",
    "outputId": "0f0d3287-cd9a-4c45-f029-2e3a377e1729"
   },
   "outputs": [
    {
     "name": "stdout",
     "output_type": "stream",
     "text": [
      "Model: \"model_4\"\n",
      "_________________________________________________________________\n",
      "Layer (type)                 Output Shape              Param #   \n",
      "=================================================================\n",
      "domain_input (InputLayer)    [(None, 82)]              0         \n",
      "_________________________________________________________________\n",
      "embedding_4 (Embedding)      (None, 82, 128)           4992      \n",
      "_________________________________________________________________\n",
      "conv1d_4 (Conv1D)            (None, 82, 128)           49280     \n",
      "_________________________________________________________________\n",
      "max_pooling1d_4 (MaxPooling1 (None, 41, 128)           0         \n",
      "_________________________________________________________________\n",
      "lstm_4 (LSTM)                (None, 64)                49408     \n",
      "_________________________________________________________________\n",
      "dropout (Dropout)            (None, 64)                0         \n",
      "_________________________________________________________________\n",
      "dense_4 (Dense)              (None, 1)                 65        \n",
      "=================================================================\n",
      "Total params: 103,745\n",
      "Trainable params: 103,745\n",
      "Non-trainable params: 0\n",
      "_________________________________________________________________\n"
     ]
    }
   ],
   "source": [
    "model.summary()"
   ]
  },
  {
   "cell_type": "code",
   "execution_count": 4,
   "metadata": {
    "colab": {
     "base_uri": "https://localhost:8080/",
     "height": 204
    },
    "colab_type": "code",
    "id": "yWsBtBgMK1_w",
    "outputId": "09556cda-8c5b-4a6f-9c3f-0345f799f194"
   },
   "outputs": [
    {
     "data": {
      "text/html": [
       "<div>\n",
       "<style scoped>\n",
       "    .dataframe tbody tr th:only-of-type {\n",
       "        vertical-align: middle;\n",
       "    }\n",
       "\n",
       "    .dataframe tbody tr th {\n",
       "        vertical-align: top;\n",
       "    }\n",
       "\n",
       "    .dataframe thead th {\n",
       "        text-align: right;\n",
       "    }\n",
       "</style>\n",
       "<table border=\"1\" class=\"dataframe\">\n",
       "  <thead>\n",
       "    <tr style=\"text-align: right;\">\n",
       "      <th></th>\n",
       "      <th>domain</th>\n",
       "      <th>pred</th>\n",
       "    </tr>\n",
       "  </thead>\n",
       "  <tbody>\n",
       "    <tr>\n",
       "      <th>0</th>\n",
       "      <td>rewbook.com</td>\n",
       "      <td>0</td>\n",
       "    </tr>\n",
       "    <tr>\n",
       "      <th>1</th>\n",
       "      <td>xbdqepictom.com</td>\n",
       "      <td>1</td>\n",
       "    </tr>\n",
       "    <tr>\n",
       "      <th>2</th>\n",
       "      <td>sostavproduktov.ru</td>\n",
       "      <td>0</td>\n",
       "    </tr>\n",
       "    <tr>\n",
       "      <th>3</th>\n",
       "      <td>wepuestnessbiophysicalohax.com</td>\n",
       "      <td>1</td>\n",
       "    </tr>\n",
       "    <tr>\n",
       "      <th>4</th>\n",
       "      <td>v-dslr</td>\n",
       "      <td>0</td>\n",
       "    </tr>\n",
       "  </tbody>\n",
       "</table>\n",
       "</div>"
      ],
      "text/plain": [
       "                           domain  pred\n",
       "0                     rewbook.com     0\n",
       "1                 xbdqepictom.com     1\n",
       "2              sostavproduktov.ru     0\n",
       "3  wepuestnessbiophysicalohax.com     1\n",
       "4                          v-dslr     0"
      ]
     },
     "execution_count": 4,
     "metadata": {
      "tags": []
     },
     "output_type": "execute_result"
    }
   ],
   "source": [
    "domain_data.head(5)"
   ]
  },
  {
   "cell_type": "code",
   "execution_count": 3,
   "metadata": {
    "ExecuteTime": {
     "end_time": "2019-11-23T04:19:02.207547Z",
     "start_time": "2019-11-23T04:19:02.203312Z"
    },
    "colab": {},
    "colab_type": "code",
    "id": "cgjkQ-cZJwqN"
   },
   "outputs": [],
   "source": [
    "def load_test(domains):\n",
    "  array = np.zeros((domains.shape[0], 82))\n",
    "  for i, line in enumerate(domains.iloc[:, 0]):\n",
    "    array[i, :len(line)] = np.array([char2idx[c] for c in line])\n",
    "\n",
    "  targets = np.array(domains.iloc[:, 1], dtype=np.int32)\n",
    "  \n",
    "  return array, targets"
   ]
  },
  {
   "cell_type": "code",
   "execution_count": 4,
   "metadata": {
    "ExecuteTime": {
     "end_time": "2019-11-23T04:19:02.583505Z",
     "start_time": "2019-11-23T04:19:02.534094Z"
    },
    "colab": {},
    "colab_type": "code",
    "id": "FrC5TVMAKjPp"
   },
   "outputs": [],
   "source": [
    "inputs, y_test = load_test(domain_data[1600000:1610000])"
   ]
  },
  {
   "cell_type": "code",
   "execution_count": 5,
   "metadata": {
    "ExecuteTime": {
     "end_time": "2019-11-23T04:19:06.339617Z",
     "start_time": "2019-11-23T04:19:02.940278Z"
    },
    "colab": {},
    "colab_type": "code",
    "id": "hitkbm6ELAOF"
   },
   "outputs": [],
   "source": [
    "output = model(inputs)"
   ]
  },
  {
   "cell_type": "code",
   "execution_count": 6,
   "metadata": {
    "ExecuteTime": {
     "end_time": "2019-11-23T04:19:10.984496Z",
     "start_time": "2019-11-23T04:19:10.980618Z"
    },
    "colab": {},
    "colab_type": "code",
    "id": "YPOmd_gdLk3-"
   },
   "outputs": [],
   "source": [
    "def read_outputs(output):\n",
    "  out = output.numpy()\n",
    "  n = out.shape[0]\n",
    "\n",
    "  y_pred = np.zeros((n))\n",
    "\n",
    "  for i in range(out.shape[0]):\n",
    "    if out[i, 0] > 0.5:\n",
    "      y_pred[i] = 1\n",
    "  \n",
    "  return y_pred"
   ]
  },
  {
   "cell_type": "code",
   "execution_count": 7,
   "metadata": {
    "ExecuteTime": {
     "end_time": "2019-11-23T04:19:11.298538Z",
     "start_time": "2019-11-23T04:19:11.294813Z"
    },
    "colab": {},
    "colab_type": "code",
    "id": "J7DgJ4EyNc6d"
   },
   "outputs": [],
   "source": [
    "def read_outputs_raw(output):\n",
    "  out = output.numpy()\n",
    "  n = out.shape[0]\n",
    "\n",
    "  y_pred = np.zeros((n))\n",
    "\n",
    "  for i in range(out.shape[0]):\n",
    "    y_pred[i] = out[i, 0]\n",
    "  \n",
    "  return y_pred"
   ]
  },
  {
   "cell_type": "code",
   "execution_count": 8,
   "metadata": {
    "ExecuteTime": {
     "end_time": "2019-11-23T04:19:12.772342Z",
     "start_time": "2019-11-23T04:19:12.750957Z"
    },
    "colab": {},
    "colab_type": "code",
    "id": "Rm24CW1aMTrM"
   },
   "outputs": [],
   "source": [
    "y_pred = read_outputs(output)\n",
    "y_pred_prob = read_outputs_raw(output)"
   ]
  },
  {
   "cell_type": "code",
   "execution_count": 0,
   "metadata": {
    "colab": {},
    "colab_type": "code",
    "id": "Qn_WJto2MaPt"
   },
   "outputs": [],
   "source": [
    "C = np.array(confusion_matrix(y_test, y_pred))"
   ]
  },
  {
   "cell_type": "code",
   "execution_count": 30,
   "metadata": {
    "colab": {
     "base_uri": "https://localhost:8080/",
     "height": 51
    },
    "colab_type": "code",
    "id": "YC0WRJ8kMcIj",
    "outputId": "dee320ff-7eda-4549-944e-4bed965cc687"
   },
   "outputs": [
    {
     "data": {
      "text/plain": [
       "array([[5158,   55],\n",
       "       [  51, 4736]])"
      ]
     },
     "execution_count": 30,
     "metadata": {
      "tags": []
     },
     "output_type": "execute_result"
    }
   ],
   "source": [
    "C"
   ]
  },
  {
   "cell_type": "code",
   "execution_count": 32,
   "metadata": {
    "colab": {
     "base_uri": "https://localhost:8080/",
     "height": 51
    },
    "colab_type": "code",
    "id": "Pi3pDHmFMwyB",
    "outputId": "48d56f29-8e8e-4a84-e421-ce7a16c689c2"
   },
   "outputs": [
    {
     "data": {
      "text/plain": [
       "array([[0.5158, 0.0055],\n",
       "       [0.0051, 0.4736]])"
      ]
     },
     "execution_count": 32,
     "metadata": {
      "tags": []
     },
     "output_type": "execute_result"
    }
   ],
   "source": [
    "C/C.sum()"
   ]
  },
  {
   "cell_type": "code",
   "execution_count": 35,
   "metadata": {
    "colab": {
     "base_uri": "https://localhost:8080/",
     "height": 170
    },
    "colab_type": "code",
    "id": "8opt4-d2MyCv",
    "outputId": "378cbd07-a568-4ba3-c35a-7358d136b799"
   },
   "outputs": [
    {
     "name": "stdout",
     "output_type": "stream",
     "text": [
      "              precision    recall  f1-score   support\n",
      "\n",
      "           0       0.99      0.99      0.99      5213\n",
      "           1       0.99      0.99      0.99      4787\n",
      "\n",
      "    accuracy                           0.99     10000\n",
      "   macro avg       0.99      0.99      0.99     10000\n",
      "weighted avg       0.99      0.99      0.99     10000\n",
      "\n"
     ]
    }
   ],
   "source": [
    "print(classification_report(y_test, y_pred))"
   ]
  },
  {
   "cell_type": "code",
   "execution_count": 10,
   "metadata": {
    "ExecuteTime": {
     "end_time": "2019-11-23T04:20:22.089000Z",
     "start_time": "2019-11-23T04:20:21.827401Z"
    },
    "colab": {
     "base_uri": "https://localhost:8080/",
     "height": 295
    },
    "colab_type": "code",
    "id": "TGl6bVvbM_d0",
    "outputId": "9bd6aba9-0668-4f8e-edd5-8802dcbaf476"
   },
   "outputs": [
    {
     "data": {
      "image/png": "[encoded data removed]",
      "text/plain": [
       "<Figure size 432x288 with 1 Axes>"
      ]
     },
     "metadata": {
      "needs_background": "light"
     },
     "output_type": "display_data"
    }
   ],
   "source": [
    "fpr, tpr, thresholds = roc_curve(y_test, y_pred_prob)\n",
    "# create plot\n",
    "plt.plot(fpr, tpr, label='ROC curve')\n",
    "plt.plot([0, 1], [0, 1], 'k--', label='Random guess')\n",
    "plt.xlabel('False Positive Rate')\n",
    "plt.ylabel('True Positive Rate')\n",
    "plt.title('ROC Curve')\n",
    "plt.xlim([-0.02, 1])\n",
    "plt.ylim([0, 1.02])\n",
    "plt.legend(loc=\"lower right\")\n",
    "plt.savefig('roc.svg')"
   ]
  },
  {
   "cell_type": "code",
   "execution_count": 45,
   "metadata": {
    "colab": {
     "base_uri": "https://localhost:8080/",
     "height": 34
    },
    "colab_type": "code",
    "id": "fouzfzsoNYx_",
    "outputId": "1ec28e9b-0a64-4018-cb9d-ab65f8cc0f8e"
   },
   "outputs": [
    {
     "data": {
      "text/plain": [
       "0.9989668851444848"
      ]
     },
     "execution_count": 45,
     "metadata": {
      "tags": []
     },
     "output_type": "execute_result"
    }
   ],
   "source": [
    "roc_auc_score(y_test, y_pred_prob)"
   ]
  },
  {
   "cell_type": "code",
   "execution_count": 11,
   "metadata": {
    "ExecuteTime": {
     "end_time": "2019-11-23T04:20:39.222105Z",
     "start_time": "2019-11-23T04:20:39.031073Z"
    },
    "colab": {
     "base_uri": "https://localhost:8080/",
     "height": 295
    },
    "colab_type": "code",
    "id": "fuTm6SaWN7so",
    "outputId": "bc3ae3c2-d4c9-4db4-9e10-08a3f779486c"
   },
   "outputs": [
    {
     "data": {
      "image/png": "[encoded data removed]",
      "text/plain": [
       "<Figure size 432x288 with 1 Axes>"
      ]
     },
     "metadata": {
      "needs_background": "light"
     },
     "output_type": "display_data"
    }
   ],
   "source": [
    "precision, recall, thresholds = precision_recall_curve(y_test, y_pred_prob)\n",
    "# create plot\n",
    "plt.plot(precision, recall, label='Precision-recall curve')\n",
    "plt.xlabel('Precision')\n",
    "plt.ylabel('Recall')\n",
    "plt.title('Precision-recall curve')\n",
    "plt.legend(loc=\"lower left\")\n",
    "plt.savefig('prc.svg')"
   ]
  },
  {
   "cell_type": "code",
   "execution_count": 12,
   "metadata": {
    "ExecuteTime": {
     "end_time": "2019-11-23T04:20:42.475647Z",
     "start_time": "2019-11-23T04:20:42.469594Z"
    },
    "colab": {
     "base_uri": "https://localhost:8080/",
     "height": 34
    },
    "colab_type": "code",
    "id": "_HjYBQU8OFJW",
    "outputId": "046ff2cd-4f59-4ce1-c941-cf3d5bf5c997"
   },
   "outputs": [
    {
     "data": {
      "text/plain": [
       "0.9990645765290512"
      ]
     },
     "execution_count": 12,
     "metadata": {},
     "output_type": "execute_result"
    }
   ],
   "source": [
    "average_precision_score(y_test, y_pred_prob)"
   ]
  },
  {
   "cell_type": "code",
   "execution_count": 0,
   "metadata": {
    "colab": {},
    "colab_type": "code",
    "id": "VF8U1LJsOJdp"
   },
   "outputs": [],
   "source": []
  }
 ],
 "metadata": {
  "accelerator": "GPU",
  "colab": {
   "name": "Domain Classifier Test",
   "provenance": []
  },
  "kernelspec": {
   "display_name": "Python 3",
   "language": "python",
   "name": "python3"
  }
 },
 "nbformat": 4,
 "nbformat_minor": 1
}
